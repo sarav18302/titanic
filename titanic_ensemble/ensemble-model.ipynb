{
 "cells": [
  {
   "cell_type": "code",
   "execution_count": 2,
   "id": "67b8bf9e",
   "metadata": {
    "execution": {
     "iopub.execute_input": "2022-06-10T14:50:53.312009Z",
     "iopub.status.busy": "2022-06-10T14:50:53.310931Z",
     "iopub.status.idle": "2022-06-10T14:50:53.321361Z",
     "shell.execute_reply": "2022-06-10T14:50:53.320574Z"
    },
    "papermill": {
     "duration": 0.027435,
     "end_time": "2022-06-10T14:50:53.323795",
     "exception": false,
     "start_time": "2022-06-10T14:50:53.296360",
     "status": "completed"
    },
    "tags": []
   },
   "outputs": [],
   "source": [
    "import pandas as pd"
   ]
  },
  {
   "cell_type": "code",
   "execution_count": 3,
   "id": "898b951b",
   "metadata": {
    "execution": {
     "iopub.execute_input": "2022-06-10T14:50:53.349283Z",
     "iopub.status.busy": "2022-06-10T14:50:53.348435Z",
     "iopub.status.idle": "2022-06-10T14:50:53.368314Z",
     "shell.execute_reply": "2022-06-10T14:50:53.367282Z"
    },
    "papermill": {
     "duration": 0.035136,
     "end_time": "2022-06-10T14:50:53.370800",
     "exception": false,
     "start_time": "2022-06-10T14:50:53.335664",
     "status": "completed"
    },
    "tags": []
   },
   "outputs": [],
   "source": [
    "df=pd.read_csv(\"titanic/train.csv\")"
   ]
  },
  {
   "cell_type": "code",
   "execution_count": 4,
   "id": "6f6072a5",
   "metadata": {
    "execution": {
     "iopub.execute_input": "2022-06-10T14:50:53.427048Z",
     "iopub.status.busy": "2022-06-10T14:50:53.426379Z",
     "iopub.status.idle": "2022-06-10T14:50:53.431586Z",
     "shell.execute_reply": "2022-06-10T14:50:53.430734Z"
    },
    "papermill": {
     "duration": 0.02013,
     "end_time": "2022-06-10T14:50:53.433788",
     "exception": false,
     "start_time": "2022-06-10T14:50:53.413658",
     "status": "completed"
    },
    "tags": []
   },
   "outputs": [],
   "source": [
    "def fillnan(df):\n",
    "    df[\"Age\"] = df[\"Age\"].fillna(method='ffill')\n",
    "    df[\"Fare\"] = df[\"Fare\"].fillna(method='ffill')\n",
    "    print(df.isnull().sum())"
   ]
  },
  {
   "cell_type": "code",
   "execution_count": 5,
   "id": "7326c4b0",
   "metadata": {
    "execution": {
     "iopub.execute_input": "2022-06-10T14:50:53.458635Z",
     "iopub.status.busy": "2022-06-10T14:50:53.457953Z",
     "iopub.status.idle": "2022-06-10T14:50:53.475348Z",
     "shell.execute_reply": "2022-06-10T14:50:53.474651Z"
    },
    "papermill": {
     "duration": 0.032635,
     "end_time": "2022-06-10T14:50:53.477837",
     "exception": false,
     "start_time": "2022-06-10T14:50:53.445202",
     "status": "completed"
    },
    "tags": []
   },
   "outputs": [
    {
     "name": "stdout",
     "output_type": "stream",
     "text": [
      "PassengerId      0\n",
      "Survived         0\n",
      "Pclass           0\n",
      "Name             0\n",
      "Sex              0\n",
      "Age              0\n",
      "SibSp            0\n",
      "Parch            0\n",
      "Ticket           0\n",
      "Fare             0\n",
      "Cabin          687\n",
      "Embarked         2\n",
      "dtype: int64\n"
     ]
    }
   ],
   "source": [
    "fillnan(df)"
   ]
  },
  {
   "cell_type": "code",
   "execution_count": 6,
   "id": "1f5abc15",
   "metadata": {
    "execution": {
     "iopub.execute_input": "2022-06-10T14:50:53.503088Z",
     "iopub.status.busy": "2022-06-10T14:50:53.502400Z",
     "iopub.status.idle": "2022-06-10T14:50:53.509696Z",
     "shell.execute_reply": "2022-06-10T14:50:53.508678Z"
    },
    "papermill": {
     "duration": 0.022736,
     "end_time": "2022-06-10T14:50:53.512277",
     "exception": false,
     "start_time": "2022-06-10T14:50:53.489541",
     "status": "completed"
    },
    "tags": []
   },
   "outputs": [],
   "source": [
    "X=df.iloc[:,[2,4,5,9]]"
   ]
  },
  {
   "cell_type": "code",
   "execution_count": 7,
   "id": "757eebfd",
   "metadata": {
    "execution": {
     "iopub.execute_input": "2022-06-10T14:50:53.537392Z",
     "iopub.status.busy": "2022-06-10T14:50:53.536996Z",
     "iopub.status.idle": "2022-06-10T14:50:53.558260Z",
     "shell.execute_reply": "2022-06-10T14:50:53.557238Z"
    },
    "papermill": {
     "duration": 0.036373,
     "end_time": "2022-06-10T14:50:53.560636",
     "exception": false,
     "start_time": "2022-06-10T14:50:53.524263",
     "status": "completed"
    },
    "tags": []
   },
   "outputs": [
    {
     "name": "stdout",
     "output_type": "stream",
     "text": [
      "<class 'pandas.core.frame.DataFrame'>\n",
      "RangeIndex: 891 entries, 0 to 890\n",
      "Data columns (total 4 columns):\n",
      " #   Column  Non-Null Count  Dtype  \n",
      "---  ------  --------------  -----  \n",
      " 0   Pclass  891 non-null    int64  \n",
      " 1   Sex     891 non-null    object \n",
      " 2   Age     891 non-null    float64\n",
      " 3   Fare    891 non-null    float64\n",
      "dtypes: float64(2), int64(1), object(1)\n",
      "memory usage: 28.0+ KB\n"
     ]
    }
   ],
   "source": [
    "X.info()"
   ]
  },
  {
   "cell_type": "code",
   "execution_count": 8,
   "id": "c9f18392",
   "metadata": {
    "execution": {
     "iopub.execute_input": "2022-06-10T14:50:53.586220Z",
     "iopub.status.busy": "2022-06-10T14:50:53.585574Z",
     "iopub.status.idle": "2022-06-10T14:50:53.591433Z",
     "shell.execute_reply": "2022-06-10T14:50:53.590562Z"
    },
    "papermill": {
     "duration": 0.021099,
     "end_time": "2022-06-10T14:50:53.593684",
     "exception": false,
     "start_time": "2022-06-10T14:50:53.572585",
     "status": "completed"
    },
    "tags": []
   },
   "outputs": [],
   "source": [
    "def maskX(X):\n",
    "    X['Sex'].mask(X['Sex'] == 'female', 0, inplace=True)\n",
    "    X['Sex'].mask(X['Sex'] == 'male', 1, inplace=True)"
   ]
  },
  {
   "cell_type": "code",
   "execution_count": 9,
   "id": "39bf1ec6",
   "metadata": {
    "execution": {
     "iopub.execute_input": "2022-06-10T14:50:53.620157Z",
     "iopub.status.busy": "2022-06-10T14:50:53.619720Z",
     "iopub.status.idle": "2022-06-10T14:50:53.632763Z",
     "shell.execute_reply": "2022-06-10T14:50:53.631631Z"
    },
    "papermill": {
     "duration": 0.029668,
     "end_time": "2022-06-10T14:50:53.635413",
     "exception": false,
     "start_time": "2022-06-10T14:50:53.605745",
     "status": "completed"
    },
    "tags": []
   },
   "outputs": [
    {
     "name": "stderr",
     "output_type": "stream",
     "text": [
      "C:\\Users\\saravanan\\anaconda3\\lib\\site-packages\\pandas\\core\\generic.py:9286: SettingWithCopyWarning: \n",
      "A value is trying to be set on a copy of a slice from a DataFrame\n",
      "\n",
      "See the caveats in the documentation: https://pandas.pydata.org/pandas-docs/stable/user_guide/indexing.html#returning-a-view-versus-a-copy\n",
      "  return self._where(\n"
     ]
    }
   ],
   "source": [
    "maskX(X)\n"
   ]
  },
  {
   "cell_type": "code",
   "execution_count": 10,
   "id": "005ed6e0",
   "metadata": {
    "execution": {
     "iopub.execute_input": "2022-06-10T14:50:53.661091Z",
     "iopub.status.busy": "2022-06-10T14:50:53.660426Z",
     "iopub.status.idle": "2022-06-10T14:50:53.669288Z",
     "shell.execute_reply": "2022-06-10T14:50:53.668394Z"
    },
    "papermill": {
     "duration": 0.024051,
     "end_time": "2022-06-10T14:50:53.671497",
     "exception": false,
     "start_time": "2022-06-10T14:50:53.647446",
     "status": "completed"
    },
    "tags": []
   },
   "outputs": [
    {
     "data": {
      "text/plain": [
       "29.581560044893376"
      ]
     },
     "execution_count": 10,
     "metadata": {},
     "output_type": "execute_result"
    }
   ],
   "source": [
    "X[\"Age\"].mean()"
   ]
  },
  {
   "cell_type": "code",
   "execution_count": 11,
   "id": "0db46b21",
   "metadata": {
    "execution": {
     "iopub.execute_input": "2022-06-10T14:50:53.697121Z",
     "iopub.status.busy": "2022-06-10T14:50:53.696448Z",
     "iopub.status.idle": "2022-06-10T14:50:53.700697Z",
     "shell.execute_reply": "2022-06-10T14:50:53.699698Z"
    },
    "papermill": {
     "duration": 0.0193,
     "end_time": "2022-06-10T14:50:53.702773",
     "exception": false,
     "start_time": "2022-06-10T14:50:53.683473",
     "status": "completed"
    },
    "tags": []
   },
   "outputs": [],
   "source": [
    "#X[\"Age\"]=2.71**-X[\"Age\"]\n",
    "#print(X[\"Age\"])"
   ]
  },
  {
   "cell_type": "code",
   "execution_count": 12,
   "id": "05975513",
   "metadata": {
    "execution": {
     "iopub.execute_input": "2022-06-10T14:50:53.728914Z",
     "iopub.status.busy": "2022-06-10T14:50:53.727772Z",
     "iopub.status.idle": "2022-06-10T14:50:53.733027Z",
     "shell.execute_reply": "2022-06-10T14:50:53.732021Z"
    },
    "papermill": {
     "duration": 0.020356,
     "end_time": "2022-06-10T14:50:53.735217",
     "exception": false,
     "start_time": "2022-06-10T14:50:53.714861",
     "status": "completed"
    },
    "tags": []
   },
   "outputs": [],
   "source": [
    "y=df.iloc[:,1]"
   ]
  },
  {
   "cell_type": "code",
   "execution_count": 13,
   "id": "4f41579b",
   "metadata": {
    "execution": {
     "iopub.execute_input": "2022-06-10T14:50:53.760771Z",
     "iopub.status.busy": "2022-06-10T14:50:53.760374Z",
     "iopub.status.idle": "2022-06-10T14:50:53.768087Z",
     "shell.execute_reply": "2022-06-10T14:50:53.767259Z"
    },
    "papermill": {
     "duration": 0.022992,
     "end_time": "2022-06-10T14:50:53.770009",
     "exception": false,
     "start_time": "2022-06-10T14:50:53.747017",
     "status": "completed"
    },
    "tags": []
   },
   "outputs": [
    {
     "data": {
      "text/plain": [
       "0      0\n",
       "1      1\n",
       "2      1\n",
       "3      1\n",
       "4      0\n",
       "      ..\n",
       "886    0\n",
       "887    1\n",
       "888    0\n",
       "889    1\n",
       "890    0\n",
       "Name: Survived, Length: 891, dtype: int64"
      ]
     },
     "execution_count": 13,
     "metadata": {},
     "output_type": "execute_result"
    }
   ],
   "source": [
    "y"
   ]
  },
  {
   "cell_type": "code",
   "execution_count": 14,
   "id": "b89d505b",
   "metadata": {
    "execution": {
     "iopub.execute_input": "2022-06-10T14:50:53.795540Z",
     "iopub.status.busy": "2022-06-10T14:50:53.794937Z",
     "iopub.status.idle": "2022-06-10T14:50:54.927644Z",
     "shell.execute_reply": "2022-06-10T14:50:54.926676Z"
    },
    "papermill": {
     "duration": 1.148062,
     "end_time": "2022-06-10T14:50:54.929945",
     "exception": false,
     "start_time": "2022-06-10T14:50:53.781883",
     "status": "completed"
    },
    "tags": []
   },
   "outputs": [],
   "source": [
    "from sklearn.model_selection import train_test_split"
   ]
  },
  {
   "cell_type": "code",
   "execution_count": 15,
   "id": "65550609",
   "metadata": {
    "execution": {
     "iopub.execute_input": "2022-06-10T14:50:54.955891Z",
     "iopub.status.busy": "2022-06-10T14:50:54.955198Z",
     "iopub.status.idle": "2022-06-10T14:50:54.961443Z",
     "shell.execute_reply": "2022-06-10T14:50:54.960616Z"
    },
    "papermill": {
     "duration": 0.021397,
     "end_time": "2022-06-10T14:50:54.963311",
     "exception": false,
     "start_time": "2022-06-10T14:50:54.941914",
     "status": "completed"
    },
    "tags": []
   },
   "outputs": [],
   "source": [
    "\n",
    "X_train, X_test, y_train, y_test = train_test_split(X, y, test_size=0.33)"
   ]
  },
  {
   "cell_type": "code",
   "execution_count": 16,
   "id": "1c001037",
   "metadata": {
    "execution": {
     "iopub.execute_input": "2022-06-10T14:50:54.989540Z",
     "iopub.status.busy": "2022-06-10T14:50:54.988896Z",
     "iopub.status.idle": "2022-06-10T14:50:55.008669Z",
     "shell.execute_reply": "2022-06-10T14:50:55.007929Z"
    },
    "papermill": {
     "duration": 0.035382,
     "end_time": "2022-06-10T14:50:55.010553",
     "exception": false,
     "start_time": "2022-06-10T14:50:54.975171",
     "status": "completed"
    },
    "tags": []
   },
   "outputs": [
    {
     "data": {
      "text/html": [
       "<div>\n",
       "<style scoped>\n",
       "    .dataframe tbody tr th:only-of-type {\n",
       "        vertical-align: middle;\n",
       "    }\n",
       "\n",
       "    .dataframe tbody tr th {\n",
       "        vertical-align: top;\n",
       "    }\n",
       "\n",
       "    .dataframe thead th {\n",
       "        text-align: right;\n",
       "    }\n",
       "</style>\n",
       "<table border=\"1\" class=\"dataframe\">\n",
       "  <thead>\n",
       "    <tr style=\"text-align: right;\">\n",
       "      <th></th>\n",
       "      <th>Pclass</th>\n",
       "      <th>Sex</th>\n",
       "      <th>Age</th>\n",
       "      <th>Fare</th>\n",
       "    </tr>\n",
       "  </thead>\n",
       "  <tbody>\n",
       "    <tr>\n",
       "      <th>520</th>\n",
       "      <td>1</td>\n",
       "      <td>0</td>\n",
       "      <td>30.0</td>\n",
       "      <td>93.5000</td>\n",
       "    </tr>\n",
       "    <tr>\n",
       "      <th>372</th>\n",
       "      <td>3</td>\n",
       "      <td>1</td>\n",
       "      <td>19.0</td>\n",
       "      <td>8.0500</td>\n",
       "    </tr>\n",
       "    <tr>\n",
       "      <th>425</th>\n",
       "      <td>3</td>\n",
       "      <td>1</td>\n",
       "      <td>18.0</td>\n",
       "      <td>7.2500</td>\n",
       "    </tr>\n",
       "    <tr>\n",
       "      <th>31</th>\n",
       "      <td>1</td>\n",
       "      <td>0</td>\n",
       "      <td>40.0</td>\n",
       "      <td>146.5208</td>\n",
       "    </tr>\n",
       "    <tr>\n",
       "      <th>373</th>\n",
       "      <td>1</td>\n",
       "      <td>1</td>\n",
       "      <td>22.0</td>\n",
       "      <td>135.6333</td>\n",
       "    </tr>\n",
       "    <tr>\n",
       "      <th>...</th>\n",
       "      <td>...</td>\n",
       "      <td>...</td>\n",
       "      <td>...</td>\n",
       "      <td>...</td>\n",
       "    </tr>\n",
       "    <tr>\n",
       "      <th>498</th>\n",
       "      <td>1</td>\n",
       "      <td>0</td>\n",
       "      <td>25.0</td>\n",
       "      <td>151.5500</td>\n",
       "    </tr>\n",
       "    <tr>\n",
       "      <th>728</th>\n",
       "      <td>2</td>\n",
       "      <td>1</td>\n",
       "      <td>25.0</td>\n",
       "      <td>26.0000</td>\n",
       "    </tr>\n",
       "    <tr>\n",
       "      <th>712</th>\n",
       "      <td>1</td>\n",
       "      <td>1</td>\n",
       "      <td>48.0</td>\n",
       "      <td>52.0000</td>\n",
       "    </tr>\n",
       "    <tr>\n",
       "      <th>675</th>\n",
       "      <td>3</td>\n",
       "      <td>1</td>\n",
       "      <td>18.0</td>\n",
       "      <td>7.7750</td>\n",
       "    </tr>\n",
       "    <tr>\n",
       "      <th>275</th>\n",
       "      <td>1</td>\n",
       "      <td>0</td>\n",
       "      <td>63.0</td>\n",
       "      <td>77.9583</td>\n",
       "    </tr>\n",
       "  </tbody>\n",
       "</table>\n",
       "<p>596 rows × 4 columns</p>\n",
       "</div>"
      ],
      "text/plain": [
       "     Pclass Sex   Age      Fare\n",
       "520       1   0  30.0   93.5000\n",
       "372       3   1  19.0    8.0500\n",
       "425       3   1  18.0    7.2500\n",
       "31        1   0  40.0  146.5208\n",
       "373       1   1  22.0  135.6333\n",
       "..      ...  ..   ...       ...\n",
       "498       1   0  25.0  151.5500\n",
       "728       2   1  25.0   26.0000\n",
       "712       1   1  48.0   52.0000\n",
       "675       3   1  18.0    7.7750\n",
       "275       1   0  63.0   77.9583\n",
       "\n",
       "[596 rows x 4 columns]"
      ]
     },
     "execution_count": 16,
     "metadata": {},
     "output_type": "execute_result"
    }
   ],
   "source": [
    "X_train"
   ]
  },
  {
   "cell_type": "code",
   "execution_count": 17,
   "id": "34a62801",
   "metadata": {
    "execution": {
     "iopub.execute_input": "2022-06-10T14:50:55.036943Z",
     "iopub.status.busy": "2022-06-10T14:50:55.036296Z",
     "iopub.status.idle": "2022-06-10T14:50:55.123197Z",
     "shell.execute_reply": "2022-06-10T14:50:55.122187Z"
    },
    "papermill": {
     "duration": 0.103007,
     "end_time": "2022-06-10T14:50:55.125782",
     "exception": false,
     "start_time": "2022-06-10T14:50:55.022775",
     "status": "completed"
    },
    "tags": []
   },
   "outputs": [],
   "source": [
    "import matplotlib.pyplot as plt\n",
    "import numpy as np\n",
    "from sklearn.linear_model import LogisticRegression\n",
    "from sklearn.metrics import classification_report, confusion_matrix"
   ]
  },
  {
   "cell_type": "code",
   "execution_count": 18,
   "id": "69a33b04",
   "metadata": {
    "execution": {
     "iopub.execute_input": "2022-06-10T14:50:55.152366Z",
     "iopub.status.busy": "2022-06-10T14:50:55.151965Z",
     "iopub.status.idle": "2022-06-10T14:50:55.176886Z",
     "shell.execute_reply": "2022-06-10T14:50:55.175894Z"
    },
    "papermill": {
     "duration": 0.041047,
     "end_time": "2022-06-10T14:50:55.179332",
     "exception": false,
     "start_time": "2022-06-10T14:50:55.138285",
     "status": "completed"
    },
    "tags": []
   },
   "outputs": [],
   "source": [
    "model=LogisticRegression().fit(X_train,y_train)"
   ]
  },
  {
   "cell_type": "code",
   "execution_count": 19,
   "id": "b822e2ed",
   "metadata": {
    "execution": {
     "iopub.execute_input": "2022-06-10T14:50:55.205554Z",
     "iopub.status.busy": "2022-06-10T14:50:55.205121Z",
     "iopub.status.idle": "2022-06-10T14:50:55.215220Z",
     "shell.execute_reply": "2022-06-10T14:50:55.214228Z"
    },
    "papermill": {
     "duration": 0.025696,
     "end_time": "2022-06-10T14:50:55.217313",
     "exception": false,
     "start_time": "2022-06-10T14:50:55.191617",
     "status": "completed"
    },
    "tags": []
   },
   "outputs": [
    {
     "data": {
      "text/plain": [
       "295"
      ]
     },
     "execution_count": 19,
     "metadata": {},
     "output_type": "execute_result"
    }
   ],
   "source": [
    "a1=model.predict(X_test)\n",
    "len(a1)\n"
   ]
  },
  {
   "cell_type": "code",
   "execution_count": 20,
   "id": "de7e6070",
   "metadata": {
    "execution": {
     "iopub.execute_input": "2022-06-10T14:50:55.243679Z",
     "iopub.status.busy": "2022-06-10T14:50:55.243261Z",
     "iopub.status.idle": "2022-06-10T14:50:55.251678Z",
     "shell.execute_reply": "2022-06-10T14:50:55.251037Z"
    },
    "papermill": {
     "duration": 0.023792,
     "end_time": "2022-06-10T14:50:55.253544",
     "exception": false,
     "start_time": "2022-06-10T14:50:55.229752",
     "status": "completed"
    },
    "tags": []
   },
   "outputs": [
    {
     "data": {
      "text/plain": [
       "0.7762711864406779"
      ]
     },
     "execution_count": 20,
     "metadata": {},
     "output_type": "execute_result"
    }
   ],
   "source": [
    "model.score(X_test, y_test)"
   ]
  },
  {
   "cell_type": "code",
   "execution_count": 21,
   "id": "2e2fea16",
   "metadata": {
    "execution": {
     "iopub.execute_input": "2022-06-10T14:50:55.280884Z",
     "iopub.status.busy": "2022-06-10T14:50:55.280190Z",
     "iopub.status.idle": "2022-06-10T14:50:55.287185Z",
     "shell.execute_reply": "2022-06-10T14:50:55.286231Z"
    },
    "papermill": {
     "duration": 0.023232,
     "end_time": "2022-06-10T14:50:55.289674",
     "exception": false,
     "start_time": "2022-06-10T14:50:55.266442",
     "status": "completed"
    },
    "tags": []
   },
   "outputs": [
    {
     "data": {
      "text/plain": [
       "229"
      ]
     },
     "execution_count": 21,
     "metadata": {},
     "output_type": "execute_result"
    }
   ],
   "source": [
    "sum(y_test==a1)"
   ]
  },
  {
   "cell_type": "code",
   "execution_count": 22,
   "id": "a834309c",
   "metadata": {
    "execution": {
     "iopub.execute_input": "2022-06-10T14:50:55.317873Z",
     "iopub.status.busy": "2022-06-10T14:50:55.317130Z",
     "iopub.status.idle": "2022-06-10T14:51:07.026701Z",
     "shell.execute_reply": "2022-06-10T14:51:07.025845Z"
    },
    "papermill": {
     "duration": 11.726191,
     "end_time": "2022-06-10T14:51:07.029221",
     "exception": false,
     "start_time": "2022-06-10T14:50:55.303030",
     "status": "completed"
    },
    "tags": []
   },
   "outputs": [],
   "source": [
    "#SVM\n",
    "from sklearn import svm\n",
    "model2=svm.SVC(kernel='linear').fit(X_train,y_train)\n"
   ]
  },
  {
   "cell_type": "code",
   "execution_count": 23,
   "id": "955c08e3",
   "metadata": {
    "execution": {
     "iopub.execute_input": "2022-06-10T14:51:07.056446Z",
     "iopub.status.busy": "2022-06-10T14:51:07.056072Z",
     "iopub.status.idle": "2022-06-10T14:51:07.063948Z",
     "shell.execute_reply": "2022-06-10T14:51:07.063071Z"
    },
    "papermill": {
     "duration": 0.024903,
     "end_time": "2022-06-10T14:51:07.066923",
     "exception": false,
     "start_time": "2022-06-10T14:51:07.042020",
     "status": "completed"
    },
    "tags": []
   },
   "outputs": [],
   "source": [
    "a2=model2.predict(X_test)"
   ]
  },
  {
   "cell_type": "code",
   "execution_count": 24,
   "id": "531f3057",
   "metadata": {
    "execution": {
     "iopub.execute_input": "2022-06-10T14:51:07.097664Z",
     "iopub.status.busy": "2022-06-10T14:51:07.096994Z",
     "iopub.status.idle": "2022-06-10T14:51:07.103740Z",
     "shell.execute_reply": "2022-06-10T14:51:07.102970Z"
    },
    "papermill": {
     "duration": 0.022768,
     "end_time": "2022-06-10T14:51:07.105762",
     "exception": false,
     "start_time": "2022-06-10T14:51:07.082994",
     "status": "completed"
    },
    "tags": []
   },
   "outputs": [
    {
     "data": {
      "text/plain": [
       "234"
      ]
     },
     "execution_count": 24,
     "metadata": {},
     "output_type": "execute_result"
    }
   ],
   "source": [
    "sum(y_test==a2)"
   ]
  },
  {
   "cell_type": "code",
   "execution_count": 25,
   "id": "d1b4a9a3",
   "metadata": {
    "execution": {
     "iopub.execute_input": "2022-06-10T14:51:07.136159Z",
     "iopub.status.busy": "2022-06-10T14:51:07.135388Z",
     "iopub.status.idle": "2022-06-10T14:51:07.150633Z",
     "shell.execute_reply": "2022-06-10T14:51:07.149912Z"
    },
    "papermill": {
     "duration": 0.034748,
     "end_time": "2022-06-10T14:51:07.153202",
     "exception": false,
     "start_time": "2022-06-10T14:51:07.118454",
     "status": "completed"
    },
    "tags": []
   },
   "outputs": [
    {
     "data": {
      "text/plain": [
       "0.7932203389830509"
      ]
     },
     "execution_count": 25,
     "metadata": {},
     "output_type": "execute_result"
    }
   ],
   "source": [
    "model2.score(X_test,y_test)"
   ]
  },
  {
   "cell_type": "code",
   "execution_count": 26,
   "id": "fb9fc5c8",
   "metadata": {
    "execution": {
     "iopub.execute_input": "2022-06-10T14:51:07.184461Z",
     "iopub.status.busy": "2022-06-10T14:51:07.183724Z",
     "iopub.status.idle": "2022-06-10T14:51:07.280546Z",
     "shell.execute_reply": "2022-06-10T14:51:07.279538Z"
    },
    "papermill": {
     "duration": 0.114295,
     "end_time": "2022-06-10T14:51:07.284039",
     "exception": false,
     "start_time": "2022-06-10T14:51:07.169744",
     "status": "completed"
    },
    "tags": []
   },
   "outputs": [],
   "source": [
    "from sklearn.tree import DecisionTreeClassifier"
   ]
  },
  {
   "cell_type": "code",
   "execution_count": 27,
   "id": "799b6d04",
   "metadata": {
    "execution": {
     "iopub.execute_input": "2022-06-10T14:51:07.319945Z",
     "iopub.status.busy": "2022-06-10T14:51:07.318919Z",
     "iopub.status.idle": "2022-06-10T14:51:07.334507Z",
     "shell.execute_reply": "2022-06-10T14:51:07.333433Z"
    },
    "papermill": {
     "duration": 0.032883,
     "end_time": "2022-06-10T14:51:07.336759",
     "exception": false,
     "start_time": "2022-06-10T14:51:07.303876",
     "status": "completed"
    },
    "tags": []
   },
   "outputs": [
    {
     "data": {
      "text/plain": [
       "DecisionTreeClassifier(min_samples_leaf=15, random_state=101)"
      ]
     },
     "execution_count": 27,
     "metadata": {},
     "output_type": "execute_result"
    }
   ],
   "source": [
    "model3=DecisionTreeClassifier(max_depth=None,random_state=101,max_features=None,min_samples_leaf=15)\n",
    "model3.fit(X_train,y_train)"
   ]
  },
  {
   "cell_type": "code",
   "execution_count": 28,
   "id": "79d6c849",
   "metadata": {
    "execution": {
     "iopub.execute_input": "2022-06-10T14:51:07.365141Z",
     "iopub.status.busy": "2022-06-10T14:51:07.364463Z",
     "iopub.status.idle": "2022-06-10T14:51:07.375364Z",
     "shell.execute_reply": "2022-06-10T14:51:07.374492Z"
    },
    "papermill": {
     "duration": 0.027393,
     "end_time": "2022-06-10T14:51:07.377383",
     "exception": false,
     "start_time": "2022-06-10T14:51:07.349990",
     "status": "completed"
    },
    "tags": []
   },
   "outputs": [
    {
     "data": {
      "text/plain": [
       "0.847457627118644"
      ]
     },
     "execution_count": 28,
     "metadata": {},
     "output_type": "execute_result"
    }
   ],
   "source": [
    "a3=model3.predict(X_test)\n",
    "model3.score(X_test,y_test)"
   ]
  },
  {
   "cell_type": "code",
   "execution_count": 29,
   "id": "32f40490",
   "metadata": {
    "execution": {
     "iopub.execute_input": "2022-06-10T14:51:07.406418Z",
     "iopub.status.busy": "2022-06-10T14:51:07.405728Z",
     "iopub.status.idle": "2022-06-10T14:51:07.412693Z",
     "shell.execute_reply": "2022-06-10T14:51:07.411967Z"
    },
    "papermill": {
     "duration": 0.024074,
     "end_time": "2022-06-10T14:51:07.414924",
     "exception": false,
     "start_time": "2022-06-10T14:51:07.390850",
     "status": "completed"
    },
    "tags": []
   },
   "outputs": [],
   "source": [
    "from sklearn.naive_bayes import GaussianNB"
   ]
  },
  {
   "cell_type": "code",
   "execution_count": 30,
   "id": "d07c7d13",
   "metadata": {
    "execution": {
     "iopub.execute_input": "2022-06-10T14:51:07.442932Z",
     "iopub.status.busy": "2022-06-10T14:51:07.442511Z",
     "iopub.status.idle": "2022-06-10T14:51:07.459555Z",
     "shell.execute_reply": "2022-06-10T14:51:07.458789Z"
    },
    "papermill": {
     "duration": 0.033536,
     "end_time": "2022-06-10T14:51:07.461766",
     "exception": false,
     "start_time": "2022-06-10T14:51:07.428230",
     "status": "completed"
    },
    "tags": []
   },
   "outputs": [
    {
     "data": {
      "text/plain": [
       "0.7762711864406779"
      ]
     },
     "execution_count": 30,
     "metadata": {},
     "output_type": "execute_result"
    }
   ],
   "source": [
    "model4 = GaussianNB().fit(X_train, y_train)\n",
    "y_pred_gnb =model4.predict(X_test)\n",
    "a4=model4.predict(X_test)\n",
    "model4.score(X_test,y_test)"
   ]
  },
  {
   "cell_type": "code",
   "execution_count": 31,
   "id": "bbbe7399",
   "metadata": {
    "execution": {
     "iopub.execute_input": "2022-06-10T14:51:07.489549Z",
     "iopub.status.busy": "2022-06-10T14:51:07.489181Z",
     "iopub.status.idle": "2022-06-10T14:51:07.564894Z",
     "shell.execute_reply": "2022-06-10T14:51:07.563889Z"
    },
    "papermill": {
     "duration": 0.092593,
     "end_time": "2022-06-10T14:51:07.567383",
     "exception": false,
     "start_time": "2022-06-10T14:51:07.474790",
     "status": "completed"
    },
    "tags": []
   },
   "outputs": [],
   "source": [
    "from sklearn.ensemble import VotingClassifier"
   ]
  },
  {
   "cell_type": "code",
   "execution_count": 32,
   "id": "491614a4",
   "metadata": {
    "execution": {
     "iopub.execute_input": "2022-06-10T14:51:07.597265Z",
     "iopub.status.busy": "2022-06-10T14:51:07.596445Z",
     "iopub.status.idle": "2022-06-10T14:51:07.603304Z",
     "shell.execute_reply": "2022-06-10T14:51:07.602361Z"
    },
    "papermill": {
     "duration": 0.024569,
     "end_time": "2022-06-10T14:51:07.605700",
     "exception": false,
     "start_time": "2022-06-10T14:51:07.581131",
     "status": "completed"
    },
    "tags": []
   },
   "outputs": [],
   "source": [
    "voting_classifier_hard = VotingClassifier(\n",
    "    estimators = [('model3',DecisionTreeClassifier(random_state=101)),\n",
    "                  ('model1', LogisticRegression()),\n",
    "                  ('model4', GaussianNB()),\n",
    "                 ('model2',svm.SVC(kernel='linear'))], )"
   ]
  },
  {
   "cell_type": "code",
   "execution_count": 33,
   "id": "d9c72039",
   "metadata": {
    "execution": {
     "iopub.execute_input": "2022-06-10T14:51:07.633876Z",
     "iopub.status.busy": "2022-06-10T14:51:07.633484Z",
     "iopub.status.idle": "2022-06-10T14:51:19.427470Z",
     "shell.execute_reply": "2022-06-10T14:51:19.426320Z"
    },
    "papermill": {
     "duration": 11.811165,
     "end_time": "2022-06-10T14:51:19.430186",
     "exception": false,
     "start_time": "2022-06-10T14:51:07.619021",
     "status": "completed"
    },
    "tags": []
   },
   "outputs": [],
   "source": [
    "voting_classifier_hard.fit(X_train, y_train)\n",
    "y_pred_vch = voting_classifier_hard.predict(X_test)"
   ]
  },
  {
   "cell_type": "code",
   "execution_count": 34,
   "id": "39b59159",
   "metadata": {
    "execution": {
     "iopub.execute_input": "2022-06-10T14:51:19.458806Z",
     "iopub.status.busy": "2022-06-10T14:51:19.458392Z",
     "iopub.status.idle": "2022-06-10T14:51:19.479617Z",
     "shell.execute_reply": "2022-06-10T14:51:19.478672Z"
    },
    "papermill": {
     "duration": 0.038588,
     "end_time": "2022-06-10T14:51:19.482070",
     "exception": false,
     "start_time": "2022-06-10T14:51:19.443482",
     "status": "completed"
    },
    "tags": []
   },
   "outputs": [
    {
     "data": {
      "text/plain": [
       "0.7966101694915254"
      ]
     },
     "execution_count": 34,
     "metadata": {},
     "output_type": "execute_result"
    }
   ],
   "source": [
    "voting_classifier_hard.score(X_test,y_test)"
   ]
  },
  {
   "cell_type": "code",
   "execution_count": 36,
   "id": "e75b9d0c",
   "metadata": {
    "execution": {
     "iopub.execute_input": "2022-06-10T14:51:19.510650Z",
     "iopub.status.busy": "2022-06-10T14:51:19.509939Z",
     "iopub.status.idle": "2022-06-10T14:51:19.525178Z",
     "shell.execute_reply": "2022-06-10T14:51:19.524117Z"
    },
    "papermill": {
     "duration": 0.032398,
     "end_time": "2022-06-10T14:51:19.527648",
     "exception": false,
     "start_time": "2022-06-10T14:51:19.495250",
     "status": "completed"
    },
    "tags": []
   },
   "outputs": [],
   "source": [
    "df1=pd.read_csv(\"titanic/test.csv\")"
   ]
  },
  {
   "cell_type": "code",
   "execution_count": 37,
   "id": "bf3b3424",
   "metadata": {
    "execution": {
     "iopub.execute_input": "2022-06-10T14:51:19.555872Z",
     "iopub.status.busy": "2022-06-10T14:51:19.555465Z",
     "iopub.status.idle": "2022-06-10T14:51:19.560636Z",
     "shell.execute_reply": "2022-06-10T14:51:19.559494Z"
    },
    "papermill": {
     "duration": 0.021779,
     "end_time": "2022-06-10T14:51:19.562730",
     "exception": false,
     "start_time": "2022-06-10T14:51:19.540951",
     "status": "completed"
    },
    "tags": []
   },
   "outputs": [],
   "source": [
    "X_req=df1.iloc[:,[1,3,4,8]]"
   ]
  },
  {
   "cell_type": "code",
   "execution_count": 38,
   "id": "4a2fd9bd",
   "metadata": {
    "execution": {
     "iopub.execute_input": "2022-06-10T14:51:19.590768Z",
     "iopub.status.busy": "2022-06-10T14:51:19.590171Z",
     "iopub.status.idle": "2022-06-10T14:51:19.601171Z",
     "shell.execute_reply": "2022-06-10T14:51:19.599253Z"
    },
    "papermill": {
     "duration": 0.027336,
     "end_time": "2022-06-10T14:51:19.603309",
     "exception": false,
     "start_time": "2022-06-10T14:51:19.575973",
     "status": "completed"
    },
    "tags": []
   },
   "outputs": [
    {
     "name": "stdout",
     "output_type": "stream",
     "text": [
      "Pclass    0\n",
      "Sex       0\n",
      "Age       0\n",
      "Fare      0\n",
      "dtype: int64\n"
     ]
    },
    {
     "name": "stderr",
     "output_type": "stream",
     "text": [
      "C:\\Users\\saravanan\\anaconda3\\lib\\site-packages\\pandas\\core\\generic.py:9286: SettingWithCopyWarning: \n",
      "A value is trying to be set on a copy of a slice from a DataFrame\n",
      "\n",
      "See the caveats in the documentation: https://pandas.pydata.org/pandas-docs/stable/user_guide/indexing.html#returning-a-view-versus-a-copy\n",
      "  return self._where(\n",
      "<ipython-input-4-dab49f76e7ad>:2: SettingWithCopyWarning: \n",
      "A value is trying to be set on a copy of a slice from a DataFrame.\n",
      "Try using .loc[row_indexer,col_indexer] = value instead\n",
      "\n",
      "See the caveats in the documentation: https://pandas.pydata.org/pandas-docs/stable/user_guide/indexing.html#returning-a-view-versus-a-copy\n",
      "  df[\"Age\"] = df[\"Age\"].fillna(method='ffill')\n",
      "<ipython-input-4-dab49f76e7ad>:3: SettingWithCopyWarning: \n",
      "A value is trying to be set on a copy of a slice from a DataFrame.\n",
      "Try using .loc[row_indexer,col_indexer] = value instead\n",
      "\n",
      "See the caveats in the documentation: https://pandas.pydata.org/pandas-docs/stable/user_guide/indexing.html#returning-a-view-versus-a-copy\n",
      "  df[\"Fare\"] = df[\"Fare\"].fillna(method='ffill')\n"
     ]
    }
   ],
   "source": [
    "maskX(X_req)\n",
    "fillnan(X_req)"
   ]
  },
  {
   "cell_type": "code",
   "execution_count": 39,
   "id": "62f40913",
   "metadata": {
    "execution": {
     "iopub.execute_input": "2022-06-10T14:51:19.631678Z",
     "iopub.status.busy": "2022-06-10T14:51:19.631033Z",
     "iopub.status.idle": "2022-06-10T14:51:19.635403Z",
     "shell.execute_reply": "2022-06-10T14:51:19.634501Z"
    },
    "papermill": {
     "duration": 0.020881,
     "end_time": "2022-06-10T14:51:19.637429",
     "exception": false,
     "start_time": "2022-06-10T14:51:19.616548",
     "status": "completed"
    },
    "tags": []
   },
   "outputs": [],
   "source": [
    "X_ans=df1[\"PassengerId\"]"
   ]
  },
  {
   "cell_type": "code",
   "execution_count": 40,
   "id": "c4df9108",
   "metadata": {
    "execution": {
     "iopub.execute_input": "2022-06-10T14:51:19.666809Z",
     "iopub.status.busy": "2022-06-10T14:51:19.666207Z",
     "iopub.status.idle": "2022-06-10T14:51:19.683727Z",
     "shell.execute_reply": "2022-06-10T14:51:19.682976Z"
    },
    "papermill": {
     "duration": 0.034641,
     "end_time": "2022-06-10T14:51:19.685978",
     "exception": false,
     "start_time": "2022-06-10T14:51:19.651337",
     "status": "completed"
    },
    "tags": []
   },
   "outputs": [],
   "source": [
    "result=voting_classifier_hard.predict(X_req)"
   ]
  },
  {
   "cell_type": "code",
   "execution_count": 41,
   "id": "cce53fbe",
   "metadata": {
    "execution": {
     "iopub.execute_input": "2022-06-10T14:51:19.714489Z",
     "iopub.status.busy": "2022-06-10T14:51:19.713929Z",
     "iopub.status.idle": "2022-06-10T14:51:19.720302Z",
     "shell.execute_reply": "2022-06-10T14:51:19.719666Z"
    },
    "papermill": {
     "duration": 0.023174,
     "end_time": "2022-06-10T14:51:19.722482",
     "exception": false,
     "start_time": "2022-06-10T14:51:19.699308",
     "status": "completed"
    },
    "tags": []
   },
   "outputs": [
    {
     "name": "stderr",
     "output_type": "stream",
     "text": [
      "<ipython-input-41-888f420733ef>:1: SettingWithCopyWarning: \n",
      "A value is trying to be set on a copy of a slice from a DataFrame\n",
      "\n",
      "See the caveats in the documentation: https://pandas.pydata.org/pandas-docs/stable/user_guide/indexing.html#returning-a-view-versus-a-copy\n",
      "  X_ans[\"Survived\"]=result\n"
     ]
    }
   ],
   "source": [
    "X_ans[\"Survived\"]=result"
   ]
  },
  {
   "cell_type": "code",
   "execution_count": 42,
   "id": "467afff7",
   "metadata": {
    "execution": {
     "iopub.execute_input": "2022-06-10T14:51:19.751469Z",
     "iopub.status.busy": "2022-06-10T14:51:19.750919Z",
     "iopub.status.idle": "2022-06-10T14:51:19.758849Z",
     "shell.execute_reply": "2022-06-10T14:51:19.758146Z"
    },
    "papermill": {
     "duration": 0.025204,
     "end_time": "2022-06-10T14:51:19.761200",
     "exception": false,
     "start_time": "2022-06-10T14:51:19.735996",
     "status": "completed"
    },
    "tags": []
   },
   "outputs": [
    {
     "data": {
      "text/plain": [
       "0                                                         892\n",
       "1                                                         893\n",
       "2                                                         894\n",
       "3                                                         895\n",
       "4                                                         896\n",
       "                                  ...                        \n",
       "414                                                      1306\n",
       "415                                                      1307\n",
       "416                                                      1308\n",
       "417                                                      1309\n",
       "Survived    [0, 0, 0, 0, 1, 0, 1, 0, 1, 0, 0, 0, 1, 0, 1, ...\n",
       "Name: PassengerId, Length: 419, dtype: object"
      ]
     },
     "execution_count": 42,
     "metadata": {},
     "output_type": "execute_result"
    }
   ],
   "source": [
    "X_ans"
   ]
  },
  {
   "cell_type": "code",
   "execution_count": 43,
   "id": "921b01c1",
   "metadata": {
    "execution": {
     "iopub.execute_input": "2022-06-10T14:51:19.790585Z",
     "iopub.status.busy": "2022-06-10T14:51:19.790031Z",
     "iopub.status.idle": "2022-06-10T14:51:19.798649Z",
     "shell.execute_reply": "2022-06-10T14:51:19.797904Z"
    },
    "papermill": {
     "duration": 0.025744,
     "end_time": "2022-06-10T14:51:19.800938",
     "exception": false,
     "start_time": "2022-06-10T14:51:19.775194",
     "status": "completed"
    },
    "tags": []
   },
   "outputs": [],
   "source": [
    "output = pd.DataFrame({'PassengerId': df1.PassengerId, 'Survived': result})\n",
    "output.to_csv('submission.csv', index=False)"
   ]
  },
  {
   "cell_type": "code",
   "execution_count": null,
   "id": "51356466",
   "metadata": {
    "papermill": {
     "duration": 0.013206,
     "end_time": "2022-06-10T14:51:19.827697",
     "exception": false,
     "start_time": "2022-06-10T14:51:19.814491",
     "status": "completed"
    },
    "tags": []
   },
   "outputs": [],
   "source": []
  },
  {
   "cell_type": "code",
   "execution_count": null,
   "id": "fdb1ba15",
   "metadata": {},
   "outputs": [],
   "source": []
  }
 ],
 "metadata": {
  "kernelspec": {
   "display_name": "Python 3",
   "language": "python",
   "name": "python3"
  },
  "language_info": {
   "codemirror_mode": {
    "name": "ipython",
    "version": 3
   },
   "file_extension": ".py",
   "mimetype": "text/x-python",
   "name": "python",
   "nbconvert_exporter": "python",
   "pygments_lexer": "ipython3",
   "version": "3.8.8"
  },
  "papermill": {
   "default_parameters": {},
   "duration": 37.887425,
   "end_time": "2022-06-10T14:51:20.562501",
   "environment_variables": {},
   "exception": null,
   "input_path": "__notebook__.ipynb",
   "output_path": "__notebook__.ipynb",
   "parameters": {},
   "start_time": "2022-06-10T14:50:42.675076",
   "version": "2.3.4"
  }
 },
 "nbformat": 4,
 "nbformat_minor": 5
}
